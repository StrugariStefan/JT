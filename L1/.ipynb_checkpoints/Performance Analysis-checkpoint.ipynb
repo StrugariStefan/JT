{
 "cells": [
  {
   "cell_type": "markdown",
   "id": "412593e2",
   "metadata": {},
   "source": [
    "The Key Value Form servlet was load tested with 100, 1000 and 10000 concurrent requests, for each of the following mock/sync parameter configurations:\n",
    "- **async** - The mock parameter is not set and the sync parameter is not set. The keys are written in file asynchronously. The content of the file is returned.\n",
    "- **sync** - The mock parameter is not set and the sync parameter is set. The keys are written in file synchronously. The content of the file is returned.\n",
    "- **mock** - The mock parameter is set. No data is written in file. Some static content is retured.\n",
    "\n",
    "The performance measurements were done using [Apache JMeter](https://jmeter.apache.org/) application. The *Key Value Form users.jmx* JMeter project contains the actual configurations used for recording the load test results. The results were stored in the *summary.csv* file, the content of which is also displayed below."
   ]
  },
  {
   "cell_type": "code",
   "execution_count": 1,
   "id": "34ec53c3",
   "metadata": {},
   "outputs": [],
   "source": [
    "import pandas as pd\n",
    "\n",
    "performance_summary_df = pd.read_csv(\"summary.csv\")"
   ]
  },
  {
   "cell_type": "code",
   "execution_count": 2,
   "id": "3517b5c4",
   "metadata": {},
   "outputs": [
    {
     "data": {
      "text/html": [
       "<div>\n",
       "<style scoped>\n",
       "    .dataframe tbody tr th:only-of-type {\n",
       "        vertical-align: middle;\n",
       "    }\n",
       "\n",
       "    .dataframe tbody tr th {\n",
       "        vertical-align: top;\n",
       "    }\n",
       "\n",
       "    .dataframe thead th {\n",
       "        text-align: right;\n",
       "    }\n",
       "</style>\n",
       "<table border=\"1\" class=\"dataframe\">\n",
       "  <thead>\n",
       "    <tr style=\"text-align: right;\">\n",
       "      <th></th>\n",
       "      <th>Label</th>\n",
       "      <th># Requests</th>\n",
       "      <th>Average (ms)</th>\n",
       "      <th>Min (ms)</th>\n",
       "      <th>Max (ms)</th>\n",
       "      <th>Std. Dev. (ms)</th>\n",
       "      <th>Error %</th>\n",
       "      <th>Throughput (requests/sec)</th>\n",
       "      <th>Received KB/sec</th>\n",
       "      <th>Sent KB/sec</th>\n",
       "      <th>Avg. Bytes</th>\n",
       "    </tr>\n",
       "  </thead>\n",
       "  <tbody>\n",
       "    <tr>\n",
       "      <th>0</th>\n",
       "      <td>async</td>\n",
       "      <td>100</td>\n",
       "      <td>5</td>\n",
       "      <td>2</td>\n",
       "      <td>11</td>\n",
       "      <td>1.04</td>\n",
       "      <td>0.000%</td>\n",
       "      <td>100.20040</td>\n",
       "      <td>176.32</td>\n",
       "      <td>28.47</td>\n",
       "      <td>1802.0</td>\n",
       "    </tr>\n",
       "    <tr>\n",
       "      <th>1</th>\n",
       "      <td>sync</td>\n",
       "      <td>100</td>\n",
       "      <td>12</td>\n",
       "      <td>5</td>\n",
       "      <td>64</td>\n",
       "      <td>14.93</td>\n",
       "      <td>0.000%</td>\n",
       "      <td>110.74197</td>\n",
       "      <td>202.73</td>\n",
       "      <td>32.88</td>\n",
       "      <td>1874.6</td>\n",
       "    </tr>\n",
       "    <tr>\n",
       "      <th>2</th>\n",
       "      <td>mock</td>\n",
       "      <td>100</td>\n",
       "      <td>1</td>\n",
       "      <td>0</td>\n",
       "      <td>11</td>\n",
       "      <td>1.10</td>\n",
       "      <td>0.000%</td>\n",
       "      <td>101.11223</td>\n",
       "      <td>72.58</td>\n",
       "      <td>30.02</td>\n",
       "      <td>735.0</td>\n",
       "    </tr>\n",
       "    <tr>\n",
       "      <th>3</th>\n",
       "      <td>async</td>\n",
       "      <td>1000</td>\n",
       "      <td>512</td>\n",
       "      <td>3</td>\n",
       "      <td>982</td>\n",
       "      <td>322.01</td>\n",
       "      <td>0.000%</td>\n",
       "      <td>500.50050</td>\n",
       "      <td>5981.97</td>\n",
       "      <td>142.23</td>\n",
       "      <td>12238.8</td>\n",
       "    </tr>\n",
       "    <tr>\n",
       "      <th>4</th>\n",
       "      <td>sync</td>\n",
       "      <td>1000</td>\n",
       "      <td>728</td>\n",
       "      <td>10</td>\n",
       "      <td>1192</td>\n",
       "      <td>315.20</td>\n",
       "      <td>0.000%</td>\n",
       "      <td>453.72051</td>\n",
       "      <td>4970.33</td>\n",
       "      <td>134.70</td>\n",
       "      <td>11217.5</td>\n",
       "    </tr>\n",
       "    <tr>\n",
       "      <th>5</th>\n",
       "      <td>mock</td>\n",
       "      <td>1000</td>\n",
       "      <td>1</td>\n",
       "      <td>0</td>\n",
       "      <td>12</td>\n",
       "      <td>0.92</td>\n",
       "      <td>0.000%</td>\n",
       "      <td>959.69290</td>\n",
       "      <td>688.84</td>\n",
       "      <td>284.91</td>\n",
       "      <td>735.0</td>\n",
       "    </tr>\n",
       "    <tr>\n",
       "      <th>6</th>\n",
       "      <td>async</td>\n",
       "      <td>10000</td>\n",
       "      <td>7972</td>\n",
       "      <td>17</td>\n",
       "      <td>17368</td>\n",
       "      <td>4308.47</td>\n",
       "      <td>39.100%</td>\n",
       "      <td>508.59526</td>\n",
       "      <td>18522.96</td>\n",
       "      <td>88.02</td>\n",
       "      <td>37293.9</td>\n",
       "    </tr>\n",
       "    <tr>\n",
       "      <th>7</th>\n",
       "      <td>sync</td>\n",
       "      <td>10000</td>\n",
       "      <td>9325</td>\n",
       "      <td>15</td>\n",
       "      <td>21031</td>\n",
       "      <td>5046.79</td>\n",
       "      <td>14.100%</td>\n",
       "      <td>438.36577</td>\n",
       "      <td>32437.66</td>\n",
       "      <td>111.79</td>\n",
       "      <td>75772.7</td>\n",
       "    </tr>\n",
       "    <tr>\n",
       "      <th>8</th>\n",
       "      <td>mock</td>\n",
       "      <td>10000</td>\n",
       "      <td>992</td>\n",
       "      <td>0</td>\n",
       "      <td>4608</td>\n",
       "      <td>1054.71</td>\n",
       "      <td>0.000%</td>\n",
       "      <td>1699.23534</td>\n",
       "      <td>1219.67</td>\n",
       "      <td>504.46</td>\n",
       "      <td>735.0</td>\n",
       "    </tr>\n",
       "  </tbody>\n",
       "</table>\n",
       "</div>"
      ],
      "text/plain": [
       "   Label  # Requests  Average (ms)  Min (ms)  Max (ms)  Std. Dev. (ms)  \\\n",
       "0  async         100             5         2        11            1.04   \n",
       "1   sync         100            12         5        64           14.93   \n",
       "2   mock         100             1         0        11            1.10   \n",
       "3  async        1000           512         3       982          322.01   \n",
       "4   sync        1000           728        10      1192          315.20   \n",
       "5   mock        1000             1         0        12            0.92   \n",
       "6  async       10000          7972        17     17368         4308.47   \n",
       "7   sync       10000          9325        15     21031         5046.79   \n",
       "8   mock       10000           992         0      4608         1054.71   \n",
       "\n",
       "   Error %  Throughput (requests/sec)  Received KB/sec  Sent KB/sec  \\\n",
       "0   0.000%                  100.20040           176.32        28.47   \n",
       "1   0.000%                  110.74197           202.73        32.88   \n",
       "2   0.000%                  101.11223            72.58        30.02   \n",
       "3   0.000%                  500.50050          5981.97       142.23   \n",
       "4   0.000%                  453.72051          4970.33       134.70   \n",
       "5   0.000%                  959.69290           688.84       284.91   \n",
       "6  39.100%                  508.59526         18522.96        88.02   \n",
       "7  14.100%                  438.36577         32437.66       111.79   \n",
       "8   0.000%                 1699.23534          1219.67       504.46   \n",
       "\n",
       "   Avg. Bytes  \n",
       "0      1802.0  \n",
       "1      1874.6  \n",
       "2       735.0  \n",
       "3     12238.8  \n",
       "4     11217.5  \n",
       "5       735.0  \n",
       "6     37293.9  \n",
       "7     75772.7  \n",
       "8       735.0  "
      ]
     },
     "metadata": {},
     "output_type": "display_data"
    }
   ],
   "source": [
    "from IPython.display import display, HTML\n",
    "\n",
    "display(performance_summary_df)\n",
    "\n",
    "performance_summary_grouped_by_label = performance_summary_df.groupby(['Label'])\n",
    "\n",
    "async_result = performance_summary_grouped_by_label.get_group('async')\n",
    "sync_result = performance_summary_grouped_by_label.get_group('sync')\n",
    "mock_result = performance_summary_grouped_by_label.get_group('mock')"
   ]
  },
  {
   "cell_type": "markdown",
   "id": "f3799ff5",
   "metadata": {},
   "source": [
    "1. \\# Requests - number of requests sent\n",
    "2. Avg - an Arithmetic mean for all responses (sum of all times / count)\n",
    "3. Minimal response time (ms)\n",
    "4. Maximum response time (ms)\n",
    "5. Deviation\n",
    "6. Error rate - percentage of failed requests\n",
    "7. Throughput - how many requests per second does your server handle\n",
    "8. KB/Sec\n",
    "9. Avg. Bytes - average response size"
   ]
  },
  {
   "cell_type": "markdown",
   "id": "d687c934",
   "metadata": {},
   "source": [
    "Next we look at a couple of performance indicators and compare the results of the three configurations."
   ]
  },
  {
   "cell_type": "markdown",
   "id": "bc5ca4af",
   "metadata": {},
   "source": [
    "### Request Rate"
   ]
  },
  {
   "cell_type": "code",
   "execution_count": 3,
   "id": "8b0c3d01",
   "metadata": {},
   "outputs": [
    {
     "data": {
      "image/png": "[encoded data removed]",
      "text/plain": [
       "<Figure size 432x288 with 1 Axes>"
      ]
     },
     "metadata": {
      "needs_background": "light"
     },
     "output_type": "display_data"
    }
   ],
   "source": [
    "import numpy as np\n",
    "import matplotlib.pyplot as plt\n",
    "  \n",
    "plt.plot(async_result.loc[:, '# Requests'], async_result.loc[:, 'Throughput (requests/sec)'], label ='async')\n",
    "plt.plot(sync_result.loc[:, '# Requests'], sync_result.loc[:, 'Throughput (requests/sec)'], label ='sync')\n",
    "plt.plot(mock_result.loc[:, '# Requests'], mock_result.loc[:, 'Throughput (requests/sec)'], label ='mock')\n",
    "  \n",
    "plt.legend()\n",
    "\n",
    "plt.grid()\n",
    "\n",
    "plt.xscale('log')\n",
    "plt.xlabel('# Requests')\n",
    "plt.ylabel('Throughput (requests/sec)')\n",
    "plt.show()"
   ]
  },
  {
   "cell_type": "markdown",
   "id": "c7ade11e",
   "metadata": {},
   "source": [
    "### Latency"
   ]
  },
  {
   "cell_type": "code",
   "execution_count": 4,
   "id": "520dc8f3",
   "metadata": {},
   "outputs": [
    {
     "data": {
      "image/png": "[encoded data removed]",
      "text/plain": [
       "<Figure size 432x288 with 1 Axes>"
      ]
     },
     "metadata": {
      "needs_background": "light"
     },
     "output_type": "display_data"
    }
   ],
   "source": [
    "import numpy as np\n",
    "import matplotlib.pyplot as plt\n",
    "  \n",
    "plt.plot(async_result.loc[:, '# Requests'], async_result.loc[:, 'Average (ms)'], label ='async')\n",
    "plt.plot(sync_result.loc[:, '# Requests'], sync_result.loc[:, 'Average (ms)'], label ='sync')\n",
    "plt.plot(mock_result.loc[:, '# Requests'], mock_result.loc[:, 'Average (ms)'], label ='mock')\n",
    "  \n",
    "plt.legend()\n",
    "\n",
    "plt.grid()\n",
    "\n",
    "plt.xscale('log')\n",
    "plt.xlabel('# Requests')\n",
    "plt.ylabel('Average time per request (ms)')\n",
    "plt.show()"
   ]
  },
  {
   "cell_type": "markdown",
   "id": "44aee992",
   "metadata": {},
   "source": [
    "In terms of throughput and latency, the **mock** configuration yields the best result, as expected. The **async** configuration is just a little better than **sync**.  "
   ]
  },
  {
   "cell_type": "markdown",
   "id": "e42becf3",
   "metadata": {},
   "source": [
    "### Stability"
   ]
  },
  {
   "cell_type": "code",
   "execution_count": 5,
   "id": "7e5a369e",
   "metadata": {},
   "outputs": [
    {
     "data": {
      "image/png": "[encoded data removed]",
      "text/plain": [
       "<Figure size 432x288 with 1 Axes>"
      ]
     },
     "metadata": {
      "needs_background": "light"
     },
     "output_type": "display_data"
    }
   ],
   "source": [
    "import numpy as np\n",
    "import matplotlib.pyplot as plt\n",
    "  \n",
    "plt.plot(async_result.loc[:, '# Requests'], async_result.loc[:, 'Std. Dev. (ms)'], label ='async')\n",
    "plt.plot(sync_result.loc[:, '# Requests'], sync_result.loc[:, 'Std. Dev. (ms)'], label ='sync')\n",
    "plt.plot(mock_result.loc[:, '# Requests'], mock_result.loc[:, 'Std. Dev. (ms)'], label ='mock')\n",
    "  \n",
    "plt.legend()\n",
    "\n",
    "plt.grid()\n",
    "\n",
    "plt.xscale('log')\n",
    "plt.xlabel('# Requests')\n",
    "plt.ylabel('Stadard Deviation (ms)')\n",
    "plt.show()"
   ]
  },
  {
   "cell_type": "markdown",
   "id": "93dbb27e",
   "metadata": {},
   "source": [
    "The same hierarchy applies for the stability of the configurations. The **mock** configuration yields the best result, as expected. The **async** configuration is just a little better than **sync**. "
   ]
  },
  {
   "cell_type": "markdown",
   "id": "9b0b2130",
   "metadata": {},
   "source": [
    "### Aborted Requests"
   ]
  },
  {
   "cell_type": "code",
   "execution_count": 6,
   "id": "29c5e3fc",
   "metadata": {},
   "outputs": [
    {
     "data": {
      "image/png": "[encoded data removed]",
      "text/plain": [
       "<Figure size 432x288 with 1 Axes>"
      ]
     },
     "metadata": {
      "needs_background": "light"
     },
     "output_type": "display_data"
    }
   ],
   "source": [
    "import numpy as np\n",
    "import matplotlib.pyplot as plt\n",
    "\n",
    "def convert_percentage_string_to_number(percentage_string) :\n",
    "    percentage_number = int(percentage_string[:-1])\n",
    "\n",
    "plt.plot(async_result.loc[:, '# Requests'], async_result.loc[:, 'Error %'].apply(str).str.rstrip('%').astype('float'), label ='async')\n",
    "plt.plot(sync_result.loc[:, '# Requests'], sync_result.loc[:, 'Error %'].apply(str).str.rstrip('%').astype('float'), label ='sync')\n",
    "plt.plot(mock_result.loc[:, '# Requests'], mock_result.loc[:, 'Error %'].apply(str).str.rstrip('%').astype('float'), label ='mock')\n",
    "  \n",
    "plt.legend()\n",
    "\n",
    "plt.grid()\n",
    "\n",
    "plt.ylim([0, 100])\n",
    "\n",
    "plt.xscale('log')\n",
    "plt.xlabel('# Requests')\n",
    "plt.ylabel('Error %')\n",
    "plt.show()"
   ]
  },
  {
   "cell_type": "markdown",
   "id": "71b02f8d",
   "metadata": {},
   "source": [
    "The servlet does not produce any aborded requests when using the **mock** configuration. Both **async** and **sync** configurations yield aborted requests. **async** is much worse than **sync**."
   ]
  }
 ],
 "metadata": {
  "kernelspec": {
   "display_name": "Python 3 (ipykernel)",
   "language": "python",
   "name": "python3"
  },
  "language_info": {
   "codemirror_mode": {
    "name": "ipython",
    "version": 3
   },
   "file_extension": ".py",
   "mimetype": "text/x-python",
   "name": "python",
   "nbconvert_exporter": "python",
   "pygments_lexer": "ipython3",
   "version": "3.9.7"
  }
 },
 "nbformat": 4,
 "nbformat_minor": 5
}
